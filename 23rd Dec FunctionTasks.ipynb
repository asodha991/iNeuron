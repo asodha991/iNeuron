{
 "cells": [
  {
   "cell_type": "raw",
   "id": "7364c258",
   "metadata": {},
   "source": [
    "1 . you have to write a fun which will take string and return a len of it without using a inbuilt fun len\n",
    "2 . write a fun which will be able to print an index of all premitive element which you will pass \n",
    "3 . Write a fun which will take input as a dict and give me out as a list of all the values \n",
    "even in case of 2 level nesting it should work . \n",
    "4 . write a fun which will take another function as an input and return me an output \n",
    "5. write a function whihc will take multiple list as a input and give me concatnation of all the element as \n",
    "and output \n",
    "6 . write a function which will be able to take a list as an input return an index of each element \n",
    "    like a inbuilt index function but even if we have repetative element it should return index \n",
    "7 . Write a function which will whould return list of all the file name from a directory . \n",
    "8  . write a function which will be able to show your system configuration . \n",
    "9 . write a function which will be able to show date and time  . \n",
    "10 . write a function whihc will be able to read a image file and show it to you .\n",
    "11 . write a function which can read video file and play for you . \n",
    "12  . write a function whihc can move a file from one directory to another directory . \n",
    "13 . write a function which will be able to shutdonw your system . \n",
    "14 . write a function whihc will be able to access your mail . \n",
    "15 . write a func bywhcih i can send a mail to anyone \n",
    "16. write a func to read a complete PDf file . \n",
    "17. write a function to read a word file . \n",
    "18 . write a function which can help you to filter only word file from a directory . \n",
    "19 . write a function by which you can print an ip address of your system . \n",
    "20 . write a function by which you will be able to append two PDF files . "
   ]
  },
  {
   "cell_type": "code",
   "execution_count": 1,
   "id": "a1cc9985",
   "metadata": {},
   "outputs": [
    {
     "name": "stdout",
     "output_type": "stream",
     "text": [
      "This is a string\n",
      "56\n",
      " Length of string is 16\n",
      "Please input a string\n"
     ]
    }
   ],
   "source": [
    "# 1 . you have to write a fun which will take string and return a len of it without using a inbuilt fun len\n",
    "def len_string(s):\n",
    "    \"\"\"This function take input a string and calculate length of it without using LEN function\"\"\"\n",
    "    len = 0\n",
    "    if type(s) == str:\n",
    "        for i in s:\n",
    "           len = len+1\n",
    "        return ' Length of string is '+ str(len)\n",
    "    else:\n",
    "        return 'Please input a string'\n",
    "a = input()\n",
    "b = int(input())\n",
    "print(len_string(a))\n",
    "print(len_string(b))"
   ]
  },
  {
   "cell_type": "code",
   "execution_count": 2,
   "id": "cc71abdb",
   "metadata": {},
   "outputs": [
    {
     "name": "stdout",
     "output_type": "stream",
     "text": [
      "Enter elements of a list separated by space 56 sdd 58 dfdf ('ddsd', 56, 'sds') \n"
     ]
    },
    {
     "data": {
      "text/plain": [
       "['Index of 56 is 0',\n",
       " 'Index of sdd is 1',\n",
       " 'Index of 58 is 2',\n",
       " 'Index of dfdf is 3',\n",
       " \"Index of ('ddsd', is 4\",\n",
       " 'Index of 56, is 5',\n",
       " \"Index of 'sds') is 6\"]"
      ]
     },
     "execution_count": 2,
     "metadata": {},
     "output_type": "execute_result"
    }
   ],
   "source": [
    "# 2 . write a fun which will be able to print an index of all premitive element which you will pass \n",
    "l = input('Enter elements of a list separated by space ')\n",
    "l1 = l.split()\n",
    "def indx_list(l):\n",
    "    \"\"\"Function take a list intput and get the index of each element\"\"\"\n",
    "    if type(l) == list:\n",
    "        lo = []\n",
    "        length = len(l)\n",
    "        for i in range(length):\n",
    "            lo.append('Index of ' + str(l[i]) + ' is ' + str(i))\n",
    "        return lo\n",
    "    else:\n",
    "        return 'Please input a list data type'\n",
    "indx_list(l1)"
   ]
  },
  {
   "cell_type": "code",
   "execution_count": 3,
   "id": "1f6f8b88",
   "metadata": {},
   "outputs": [],
   "source": [
    "d1 = {\"neuron\":{\n",
    "                'a':10,\n",
    "                'b':20,\n",
    "                'e':45\n",
    "              },\n",
    "      'Ineu':{\n",
    "                'c': 83,\n",
    "                'd':22,\n",
    "                'f':42\n",
    "              },\n",
    "        'g': 34,\n",
    "        'h': [34,65,32,42,21, 'dfdf'],\n",
    "        'i':(22,56,21, 'aja'),\n",
    "        'k':'Ajay',\n",
    "        'j':{45,'fdf'}\n",
    "      \n",
    "     }"
   ]
  },
  {
   "cell_type": "code",
   "execution_count": 4,
   "id": "a5d2d7cb",
   "metadata": {},
   "outputs": [],
   "source": [
    "# 3 . Write a fun which will take input as a dict and give me out as a list of all the values \n",
    "#     even in case of 2 level nesting it should work .\n",
    "\n",
    "def dict_values(d):\n",
    "    \"\"\"Function take input of a dictonary of 2 level nesting and provide list of all the values  \"\"\"\n",
    "    if type (d) == dict:\n",
    "        lo = []\n",
    "        for i in d.values():\n",
    "#             print(type(i))\n",
    "            if type(i) == str or type(i) == int:\n",
    "                lo.append(i)\n",
    "            elif type(i) == set or type(i) == list or type(i) == tuple:\n",
    "                for j in i:\n",
    "                    lo.append(j)\n",
    "            elif type(i) == dict:\n",
    "                for j in i.values():\n",
    "                    lo.append(j)\n",
    "        return lo\n",
    "    else:\n",
    "        return 'Please input a dictonary as input'"
   ]
  },
  {
   "cell_type": "code",
   "execution_count": 5,
   "id": "246d2383",
   "metadata": {},
   "outputs": [
    {
     "name": "stdout",
     "output_type": "stream",
     "text": [
      "[10, 20, 45, 83, 22, 42, 34, 34, 65, 32, 42, 21, 'dfdf', 22, 56, 21, 'aja', 'Ajay', 'fdf', 45]\n"
     ]
    }
   ],
   "source": [
    "print(dict_values(d1))\n"
   ]
  },
  {
   "cell_type": "code",
   "execution_count": 6,
   "id": "995b10ac",
   "metadata": {},
   "outputs": [],
   "source": [
    "# 4 . write a fun which will take another function as an input and return me an output \n",
    "def fun_inp(f, inp):\n",
    "    \"\"\"Function take an input a function name and input for that function and return an output of function}\n",
    "     Ex:fun_inp('function name', 'Input for function') \"\"\"\n",
    "    return f(inp)"
   ]
  },
  {
   "cell_type": "code",
   "execution_count": 7,
   "id": "03f2f9ae",
   "metadata": {},
   "outputs": [
    {
     "name": "stdout",
     "output_type": "stream",
     "text": [
      "[10, 20, 45, 83, 22, 42, 34, 34, 65, 32, 42, 21, 'dfdf', 22, 56, 21, 'aja', 'Ajay', 'fdf', 45]\n"
     ]
    }
   ],
   "source": [
    "print(fun_inp(dict_values, d1))"
   ]
  },
  {
   "cell_type": "code",
   "execution_count": 8,
   "id": "ea8bf617",
   "metadata": {},
   "outputs": [],
   "source": [
    "# I solved question 4 but I have doubt that how can we handle if the function name passed is not a valid function.\n",
    "# I have tried to check type of input passed but I was not able to compare if type(f) == function like we check for int, str or list."
   ]
  },
  {
   "cell_type": "code",
   "execution_count": 9,
   "id": "0d95becd",
   "metadata": {},
   "outputs": [],
   "source": [
    "# 5. write a function whihc will take multiple list as a input and give me concatnation of all the element as \n",
    "#   and output\n",
    "def con_list(l2):\n",
    "    \"\"\"Function take input a list having mulitple list and concat element of all list and provide final lsit\"\"\"\n",
    "    if type(l2) == list:\n",
    "        lo = []\n",
    "        for i in l2:\n",
    "            lo.extend(i)\n",
    "        return lo\n",
    "    else:\n",
    "        return 'Please input a valid list'"
   ]
  },
  {
   "cell_type": "code",
   "execution_count": 10,
   "id": "ecb1ce80",
   "metadata": {},
   "outputs": [
    {
     "name": "stdout",
     "output_type": "stream",
     "text": [
      "[10, 20, 45, 22, 42, 34, 34, 65, 32, 42, 21, 'dfdf', 22, 56, 21, 'aja', 'Ajay', 'fdf', 45]\n"
     ]
    }
   ],
   "source": [
    "L = [[10, 20, 45], [22, 42, 34, 34, 65] , [32, 42, 21], ['dfdf', 22, 56, 21, 'aja'], ['Ajay', 'fdf', 45]]\n",
    "print(con_list(L))"
   ]
  },
  {
   "cell_type": "code",
   "execution_count": 11,
   "id": "28f12c06",
   "metadata": {},
   "outputs": [
    {
     "data": {
      "text/plain": [
       "['Index of [10, 20, 45] is 0',\n",
       " 'Index of [22, 42, 34, 34, 65] is 1',\n",
       " 'Index of [32, 42, 21] is 2',\n",
       " \"Index of ['dfdf', 22, 56, 21, 'aja'] is 3\",\n",
       " \"Index of ['Ajay', 'fdf', 45] is 4\"]"
      ]
     },
     "execution_count": 11,
     "metadata": {},
     "output_type": "execute_result"
    }
   ],
   "source": [
    "# 6 . write a function which will be able to take a list as an input return an index of each element \n",
    "# l = input('Enter elements of a list separated by space ')\n",
    "# l1 = l.split()\n",
    "def indx_list(l):\n",
    "    \"\"\"Function take a list intput and get the index of each element\"\"\"\n",
    "    if type(l) == list:\n",
    "        lo = []\n",
    "        length = len(l)\n",
    "        for i in range(length):\n",
    "            lo.append('Index of ' + str(l[i]) + ' is ' + str(i))\n",
    "        return lo\n",
    "    else:\n",
    "        return 'Please input a list data type'\n",
    "indx_list(L)"
   ]
  },
  {
   "cell_type": "code",
   "execution_count": 12,
   "id": "2b2c641a",
   "metadata": {},
   "outputs": [],
   "source": [
    "# 7 . Write a function which will whould return list of all the file name from a directory . \n",
    "\n",
    "def get_file_list():\n",
    "    \"\"\"This function will take a directory as input will return all the files and folder in that directiory\"\"\"\n",
    "    import os\n",
    "    path = input('Please enter a directory')\n",
    "    if os.path.exists(path) == True: \n",
    "        files = os.listdir(path)\n",
    "        l= []\n",
    "        for f in files:\n",
    "#         print(f)\n",
    "            l.append(f)\n",
    "        return l\n",
    "    else:\n",
    "        return 'Please enter a valid directory'"
   ]
  },
  {
   "cell_type": "code",
   "execution_count": 13,
   "id": "2bde050c",
   "metadata": {},
   "outputs": [
    {
     "name": "stdout",
     "output_type": "stream",
     "text": [
      "Please enter a directoryE:\\Neuron\n",
      "['Python Advance', 'Python Basic']\n"
     ]
    }
   ],
   "source": [
    "print(get_file_list())"
   ]
  },
  {
   "cell_type": "code",
   "execution_count": 14,
   "id": "1c33b322",
   "metadata": {},
   "outputs": [
    {
     "name": "stdout",
     "output_type": "stream",
     "text": [
      "Requirement already satisfied: wmi in c:\\users\\asodh\\anaconda3\\lib\\site-packages (1.5.1)\n",
      "Requirement already satisfied: pywin32 in c:\\users\\asodh\\anaconda3\\lib\\site-packages (from wmi) (228)\n"
     ]
    }
   ],
   "source": [
    "! pip install wmi"
   ]
  },
  {
   "cell_type": "code",
   "execution_count": 15,
   "id": "0d51a81b",
   "metadata": {},
   "outputs": [],
   "source": [
    "# 8  . write a function which will be able to show your system configuration . \n",
    "\n",
    "def show_system_con():\n",
    "    \"\"\"Function will return system configuration\"\"\"\n",
    "    import wmi\n",
    "    c = wmi.WMI()   \n",
    "    my_system = c.Win32_ComputerSystem()[0]\n",
    " \n",
    "    print(f\"Manufacturer: {my_system.Manufacturer}\")\n",
    "    print(f\"Model: {my_system. Model}\")\n",
    "    print(f\"Name: {my_system.Name}\")\n",
    "    print(f\"NumberOfProcessors: {my_system.NumberOfProcessors}\")\n",
    "    print(f\"SystemType: {my_system.SystemType}\")\n",
    "    print(f\"SystemFamily: {my_system.SystemFamily}\")"
   ]
  },
  {
   "cell_type": "code",
   "execution_count": 16,
   "id": "905ca277",
   "metadata": {},
   "outputs": [
    {
     "name": "stdout",
     "output_type": "stream",
     "text": [
      "Manufacturer: Dell Inc.\n",
      "Model: Inspiron 3583\n",
      "Name: DESKTOP-DAOE977\n",
      "NumberOfProcessors: 1\n",
      "SystemType: x64-based PC\n",
      "SystemFamily: Inspiron\n"
     ]
    }
   ],
   "source": [
    "show_system_con()"
   ]
  },
  {
   "cell_type": "code",
   "execution_count": 17,
   "id": "a026e7f2",
   "metadata": {},
   "outputs": [
    {
     "name": "stdout",
     "output_type": "stream",
     "text": [
      "now = 2022-03-12 16:50:08.683802\n",
      "date and time = 12/03/2022 16:50:08\n"
     ]
    }
   ],
   "source": [
    "#  9 . write a function which will be able to show date and time  . \n",
    "\n",
    "def sy_date_time():\n",
    "    \"\"\"This funtion will return current data and time\"\"\"\n",
    "    from datetime import datetime\n",
    "\n",
    "    # datetime object containing current date and time\n",
    "    now = datetime.now()\n",
    "\n",
    "    print(\"now =\", now)\n",
    "\n",
    "    # dd/mm/YY H:M:S\n",
    "    dt_string = now.strftime(\"%d/%m/%Y %H:%M:%S\")\n",
    "    print(\"date and time =\", dt_string)\n",
    "sy_date_time()"
   ]
  },
  {
   "cell_type": "code",
   "execution_count": 18,
   "id": "2a2a089e",
   "metadata": {},
   "outputs": [],
   "source": [
    "# 10 . write a function whihc will be able to read a image file and show it to you .\n",
    "def dis_img(path):\n",
    "    \"\"\"Function will tale an input of file location of an image and display image\"\"\"\n",
    "    import matplotlib.pyplot as plt\n",
    "    import matplotlib.image as mpimg\n",
    "    img = mpimg.imread(path)\n",
    "#     img = mpimg.imread(r'E:\\Document\\Neu.jpg')\n",
    "    imgplot = plt.imshow(img)\n",
    "    plt.show()"
   ]
  },
  {
   "cell_type": "code",
   "execution_count": 19,
   "id": "7f46d8d8",
   "metadata": {},
   "outputs": [
    {
     "data": {
      "image/png": "[encoded data removed]",
      "text/plain": [
       "<Figure size 432x288 with 1 Axes>"
      ]
     },
     "metadata": {
      "needs_background": "light"
     },
     "output_type": "display_data"
    }
   ],
   "source": [
    "dis_img(r'E:\\Document\\Neu.jpg')"
   ]
  },
  {
   "cell_type": "code",
   "execution_count": null,
   "id": "a1eec3d6",
   "metadata": {},
   "outputs": [],
   "source": []
  },
  {
   "cell_type": "code",
   "execution_count": null,
   "id": "e918fb2a",
   "metadata": {},
   "outputs": [],
   "source": []
  }
 ],
 "metadata": {
  "kernelspec": {
   "display_name": "Python 3 (ipykernel)",
   "language": "python",
   "name": "python3"
  },
  "language_info": {
   "codemirror_mode": {
    "name": "ipython",
    "version": 3
   },
   "file_extension": ".py",
   "mimetype": "text/x-python",
   "name": "python",
   "nbconvert_exporter": "python",
   "pygments_lexer": "ipython3",
   "version": "3.9.7"
  }
 },
 "nbformat": 4,
 "nbformat_minor": 5
}
