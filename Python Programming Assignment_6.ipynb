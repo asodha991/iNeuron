{
 "cells": [
  {
   "cell_type": "code",
   "execution_count": 23,
   "id": "6910ee7a",
   "metadata": {},
   "outputs": [],
   "source": [
    "# 1. Write a Python Program to Display Fibonacci Sequence Using Recursion?"
   ]
  },
  {
   "cell_type": "code",
   "execution_count": 13,
   "id": "99911a9c",
   "metadata": {},
   "outputs": [],
   "source": [
    "import pyinputplus as pypi"
   ]
  },
  {
   "cell_type": "code",
   "execution_count": 1,
   "id": "6a5a5e45",
   "metadata": {},
   "outputs": [],
   "source": [
    "def rec_fib(n):\n",
    "    \"\"\" This function will return next \"\"\"\n",
    "    if n <= 1:\n",
    "        return n\n",
    "    else:\n",
    "        return(rec_fib(n-1) + rec_fib(n-2))"
   ]
  },
  {
   "cell_type": "code",
   "execution_count": 22,
   "id": "d5788192",
   "metadata": {},
   "outputs": [
    {
     "name": "stdout",
     "output_type": "stream",
     "text": [
      "Enter range of fib sequence10\n",
      "Fib sequence till 0 is  0\n",
      "Fib sequence till 1 is  1\n",
      "Fib sequence till 2 is  1\n",
      "Fib sequence till 3 is  2\n",
      "Fib sequence till 4 is  3\n",
      "Fib sequence till 5 is  5\n",
      "Fib sequence till 6 is  8\n",
      "Fib sequence till 7 is  13\n",
      "Fib sequence till 8 is  21\n",
      "Fib sequence till 9 is  34\n"
     ]
    }
   ],
   "source": [
    "ran = pypi.inputInt('Enter range of fib sequence')\n",
    "for i in range(ran):\n",
    "    print(\"Fib sequence till {} is \".format(i) ,rec_fib(i))"
   ]
  },
  {
   "cell_type": "code",
   "execution_count": 24,
   "id": "a964ac22",
   "metadata": {},
   "outputs": [],
   "source": [
    "# 2. Write a Python Program to Find Factorial of Number Using Recursion?"
   ]
  },
  {
   "cell_type": "code",
   "execution_count": 33,
   "id": "86d2f484",
   "metadata": {},
   "outputs": [],
   "source": [
    "# Factorial of a number using recursion\n",
    "\n",
    "def rec_fact(n):\n",
    "    \"\"\" Function can be used to get factorial of a number\"\"\"\n",
    "    if n ==1:\n",
    "        return n\n",
    "    else:\n",
    "        return n*rec_fact(n-1)"
   ]
  },
  {
   "cell_type": "code",
   "execution_count": 39,
   "id": "3e917ab6",
   "metadata": {},
   "outputs": [
    {
     "name": "stdout",
     "output_type": "stream",
     "text": [
      "Enter the number for which fatorial calculated 5\n",
      "The factorial of 5 is 120\n"
     ]
    }
   ],
   "source": [
    "\n",
    "ran = pypi.inputInt('Enter the number for which fatorial calculated ', min = 0)\n",
    "if ran == 0:\n",
    "    print(\"The factorial of 0 is 1\")\n",
    "else:\n",
    "    print(\"The factorial of {} is\".format(ran) , rec_fact(ran))\n"
   ]
  },
  {
   "cell_type": "code",
   "execution_count": null,
   "id": "a0cc1bfa",
   "metadata": {},
   "outputs": [],
   "source": [
    "# 3. Write a Python Program to calculate your Body Mass Index?"
   ]
  },
  {
   "cell_type": "code",
   "execution_count": 57,
   "id": "37e6e672",
   "metadata": {},
   "outputs": [],
   "source": [
    "def bmindex(h, w):\n",
    "    \"\"\" This function will help to calculate body mass index, based on index it will provide category\"\"\"\n",
    "    bmi = w/(h/100)**2\n",
    "    if bmi <= 18.4:\n",
    "        cat = 'underweight'\n",
    "    elif bmi <= 24.9:\n",
    "        cat = 'Healthy'\n",
    "    elif bmi <= 29.9:\n",
    "        cat = 'Over Weight'\n",
    "    elif bmi <= 34.9:\n",
    "        cat = 'Severly Over Weight'\n",
    "    elif bmi <= 39.9:\n",
    "        cat = 'Obese'\n",
    "    else:\n",
    "        cat = 'Severly Obese'\n",
    "    \n",
    "    print(\"Your Body Mass Index is {}. This is considered {}.\".format(bmi, cat))"
   ]
  },
  {
   "cell_type": "code",
   "execution_count": 62,
   "id": "5ba1bbb4",
   "metadata": {},
   "outputs": [
    {
     "name": "stdout",
     "output_type": "stream",
     "text": [
      "Enter your weight in Kg 70\n",
      "Enter your height in Cm 168\n",
      "Your Body Mass Index is 24.801587301587304. This is considered Healthy.\n"
     ]
    }
   ],
   "source": [
    "weight = pypi.inputFloat('Enter your weight in Kg ', min = 1)\n",
    "height = pypi.inputFloat('Enter your height in Cm ', min = 1)\n",
    "bmindex(height, weight)"
   ]
  },
  {
   "cell_type": "code",
   "execution_count": 63,
   "id": "7e2a968e",
   "metadata": {},
   "outputs": [
    {
     "name": "stdout",
     "output_type": "stream",
     "text": [
      "math.log(100.12) :  4.6063694665635735\n"
     ]
    }
   ],
   "source": [
    "# 4. Write a Python Program to calculate the natural logarithm of any number?\n",
    "import math\n",
    "print (\"math.log(100.12) : \", math.log(100.12))"
   ]
  },
  {
   "cell_type": "code",
   "execution_count": 80,
   "id": "85cbb83d",
   "metadata": {},
   "outputs": [],
   "source": [
    "# 5. Write a Python Program for cube sum of first n natural numbers?\n",
    "def cube_sum(n):\n",
    "    sum = 0\n",
    "    \"\"\" This function can be used to calculate sun of n natural numbers\"\"\"\n",
    "    for i in range(n+1):\n",
    "        sum += i**3\n",
    "    return sum"
   ]
  },
  {
   "cell_type": "code",
   "execution_count": 85,
   "id": "3f1af9e4",
   "metadata": {},
   "outputs": [
    {
     "data": {
      "text/plain": [
       "225"
      ]
     },
     "execution_count": 85,
     "metadata": {},
     "output_type": "execute_result"
    }
   ],
   "source": [
    "cube_sum(5)"
   ]
  }
 ],
 "metadata": {
  "kernelspec": {
   "display_name": "Python 3 (ipykernel)",
   "language": "python",
   "name": "python3"
  },
  "language_info": {
   "codemirror_mode": {
    "name": "ipython",
    "version": 3
   },
   "file_extension": ".py",
   "mimetype": "text/x-python",
   "name": "python",
   "nbconvert_exporter": "python",
   "pygments_lexer": "ipython3",
   "version": "3.9.7"
  }
 },
 "nbformat": 4,
 "nbformat_minor": 5
}
