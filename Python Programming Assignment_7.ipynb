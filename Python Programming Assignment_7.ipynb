{
 "cells": [
  {
   "cell_type": "code",
   "execution_count": 1,
   "id": "df0e1a2c",
   "metadata": {},
   "outputs": [],
   "source": [
    "# 1. Write a Python Program to find sum of array?"
   ]
  },
  {
   "cell_type": "code",
   "execution_count": 2,
   "id": "411cdfe8",
   "metadata": {},
   "outputs": [],
   "source": [
    "def sum_array(l):\n",
    "    \"\"\"Function can be used to calculate sum of array having interger or float\"\"\"\n",
    "    sum = 0\n",
    "    for i in l:\n",
    "        if type(i) == int or type(i) == float:\n",
    "            sum += i\n",
    "    return sum"
   ]
  },
  {
   "cell_type": "code",
   "execution_count": 3,
   "id": "fa2133a6",
   "metadata": {},
   "outputs": [
    {
     "data": {
      "text/plain": [
       "20.0"
      ]
     },
     "execution_count": 3,
     "metadata": {},
     "output_type": "execute_result"
    }
   ],
   "source": [
    "l = [2,6,8, 'hello', 10.2, 3.8, -10]\n",
    "sum_array(l)"
   ]
  },
  {
   "cell_type": "code",
   "execution_count": 4,
   "id": "b3042053",
   "metadata": {},
   "outputs": [],
   "source": [
    "# 2. Write a Python Program to find largest element in an array?"
   ]
  },
  {
   "cell_type": "code",
   "execution_count": 5,
   "id": "e16040d4",
   "metadata": {},
   "outputs": [],
   "source": [
    "def largest_ele(l):\n",
    "    \"\"\" Function will return the largest element of array for postive numbers\"\"\"\n",
    "    max = 0\n",
    "    for i in l:\n",
    "        if type(i) == int or type(i) == float:\n",
    "            if max < i:\n",
    "                max = i\n",
    "    return max"
   ]
  },
  {
   "cell_type": "code",
   "execution_count": 6,
   "id": "7a46145d",
   "metadata": {},
   "outputs": [
    {
     "data": {
      "text/plain": [
       "10.2"
      ]
     },
     "execution_count": 6,
     "metadata": {},
     "output_type": "execute_result"
    }
   ],
   "source": [
    "largest_ele(l)"
   ]
  },
  {
   "cell_type": "code",
   "execution_count": 7,
   "id": "833bdd17",
   "metadata": {},
   "outputs": [],
   "source": [
    "# 3. Write a Python Program for array rotation?"
   ]
  },
  {
   "cell_type": "code",
   "execution_count": 8,
   "id": "758fa45b",
   "metadata": {},
   "outputs": [],
   "source": [
    "def rotate(l, step):\n",
    "    \"\"\" Function will rotate list by step provided as input \"\"\"\n",
    "    temp =[]\n",
    "    rl = []\n",
    "    s = 0\n",
    "    for i in range (len(l)):\n",
    "        if i < step:\n",
    "            temp.append(l[i])\n",
    "        else:\n",
    "            rl.append(l[i])\n",
    "            s += 1\n",
    "    rl.extend(temp)\n",
    "    return rl"
   ]
  },
  {
   "cell_type": "code",
   "execution_count": 9,
   "id": "84fe1c36",
   "metadata": {},
   "outputs": [
    {
     "data": {
      "text/plain": [
       "['hello', 10.2, 3.8, -10, 2, 6, 8]"
      ]
     },
     "execution_count": 9,
     "metadata": {},
     "output_type": "execute_result"
    }
   ],
   "source": [
    "rotate(l, 3)"
   ]
  },
  {
   "cell_type": "code",
   "execution_count": 10,
   "id": "99015c54",
   "metadata": {},
   "outputs": [
    {
     "data": {
      "text/plain": [
       "[2, 6, 8, 'hello', 10.2, 3.8, -10]"
      ]
     },
     "execution_count": 10,
     "metadata": {},
     "output_type": "execute_result"
    }
   ],
   "source": [
    "l"
   ]
  },
  {
   "cell_type": "code",
   "execution_count": 11,
   "id": "2e3c4e4b",
   "metadata": {},
   "outputs": [
    {
     "data": {
      "text/plain": [
       "['hello', 10.2, 3.8, -10, 2, 6, 8]"
      ]
     },
     "execution_count": 11,
     "metadata": {},
     "output_type": "execute_result"
    }
   ],
   "source": [
    "# 4. Write a Python Program to Split the array and add the first part to the end?\n",
    "la = len(l)\n",
    "if (la %2 )  == 0:\n",
    "    step = la/2\n",
    "else:\n",
    "    step = (la-1)/2\n",
    "rotate(l,step)"
   ]
  },
  {
   "cell_type": "code",
   "execution_count": 12,
   "id": "f99b83f5",
   "metadata": {},
   "outputs": [],
   "source": [
    "# 5. Write a Python Program to check if given array is Monotonic?\n"
   ]
  },
  {
   "cell_type": "code",
   "execution_count": 13,
   "id": "19ec1399",
   "metadata": {},
   "outputs": [],
   "source": [
    "def monotonic(l):\n",
    "    \"\"\"This Function helps to check if given array is Monotonic or not\n",
    "       non_m represent output such that True means array is non-monotonic and vice-versa\"\"\"\n",
    "    non_m = True\n",
    "    for i in range(len(l)-1):\n",
    "        if (type(l[i]) == int or type(l[i]) == float) and (type(l[i+1]) == int or type(l[i+1]) == float):\n",
    "#             all(A[i] <= A[i + 1]\n",
    "            if l[i] <= l[i+1]:\n",
    "                non_l = True\n",
    "            else:\n",
    "                non_l = False\n",
    "                break\n",
    "    for i in range(len(l)-1):\n",
    "        if (type(l[i]) == int or type(l[i]) == float) and (type(l[i+1]) == int or type(l[i+1]) == float):\n",
    "            if l[i] >= l[i+1]:\n",
    "                non_g = True\n",
    "            else:\n",
    "                non_g = False\n",
    "                break\n",
    "    \n",
    "    if non_l == True or non_g == True:\n",
    "        non_m = False\n",
    "    else:\n",
    "        non_m = True\n",
    "    \n",
    "    return non_m\n",
    "            "
   ]
  },
  {
   "cell_type": "code",
   "execution_count": 14,
   "id": "38291469",
   "metadata": {},
   "outputs": [],
   "source": [
    "a = [1,3,5,7,8,9,10]"
   ]
  },
  {
   "cell_type": "code",
   "execution_count": 15,
   "id": "c7dfb789",
   "metadata": {},
   "outputs": [
    {
     "name": "stdout",
     "output_type": "stream",
     "text": [
      "Array is monotonic\n"
     ]
    }
   ],
   "source": [
    "out = monotonic(a)\n",
    "if out == True:\n",
    "    print(\"Array is non monotonic\")\n",
    "else:\n",
    "    print(\"Array is monotonic\")"
   ]
  },
  {
   "cell_type": "code",
   "execution_count": 16,
   "id": "50abf19e",
   "metadata": {},
   "outputs": [
    {
     "name": "stdout",
     "output_type": "stream",
     "text": [
      "Array is monotonic\n"
     ]
    }
   ],
   "source": [
    "b= [10,9,7,4,3,2,1]\n",
    "out = monotonic(b)\n",
    "if out == True:\n",
    "    print(\"Array is non monotonic\")\n",
    "else:\n",
    "    print(\"Array is monotonic\")"
   ]
  },
  {
   "cell_type": "code",
   "execution_count": 17,
   "id": "5f87d7fa",
   "metadata": {},
   "outputs": [
    {
     "data": {
      "text/plain": [
       "[2, 6, 8, 'hello', 10.2, 3.8, -10]"
      ]
     },
     "execution_count": 17,
     "metadata": {},
     "output_type": "execute_result"
    }
   ],
   "source": [
    "l"
   ]
  },
  {
   "cell_type": "code",
   "execution_count": 18,
   "id": "45a9961c",
   "metadata": {},
   "outputs": [
    {
     "name": "stdout",
     "output_type": "stream",
     "text": [
      "Array is non monotonic\n"
     ]
    }
   ],
   "source": [
    "out = monotonic(l)\n",
    "if out == True:\n",
    "    print(\"Array is non monotonic\")\n",
    "else:\n",
    "    print(\"Array is monotonic\")"
   ]
  },
  {
   "cell_type": "code",
   "execution_count": null,
   "id": "2195df69",
   "metadata": {},
   "outputs": [],
   "source": []
  }
 ],
 "metadata": {
  "kernelspec": {
   "display_name": "Python 3 (ipykernel)",
   "language": "python",
   "name": "python3"
  },
  "language_info": {
   "codemirror_mode": {
    "name": "ipython",
    "version": 3
   },
   "file_extension": ".py",
   "mimetype": "text/x-python",
   "name": "python",
   "nbconvert_exporter": "python",
   "pygments_lexer": "ipython3",
   "version": "3.9.7"
  }
 },
 "nbformat": 4,
 "nbformat_minor": 5
}
