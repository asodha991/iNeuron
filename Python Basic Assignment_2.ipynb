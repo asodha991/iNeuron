{
 "cells": [
  {
   "cell_type": "raw",
   "id": "4a102174",
   "metadata": {},
   "source": [
    "1.What are the two values of the Boolean data type? How do you write them?\n",
    "Ans: Values of boolean Data type are 0 and 1 where 1 represent True and 0 represent False.\n",
    "\n",
    "2. What are the three different types of Boolean operators?\n",
    "Ans : AND , OR and NOT.\n",
    "3. Make a list of each Boolean operator's truth tables (i.e. every possible combination of Boolean values for the operator and what it evaluate ).\n",
    "Ans: \n",
    "    And \t\t\n",
    "A\tB\tOutput (A and B)\n",
    "0\t0\t0\n",
    "0\t1\t0\n",
    "1\t0\t0\n",
    "1\t1\t1\n",
    "\t\t\n",
    "    Or\t\t\n",
    "A\tB\tOutput (A or B)\n",
    "0\t0\t0\n",
    "0\t1\t1\n",
    "1\t0\t1\n",
    "1\t1\t1\n",
    "\n",
    "    Not\t\n",
    "A\tOutput( not A)\n",
    "0\t1\n",
    "1\t0\n",
    "\n",
    "4. What are the values of the following expressions?\n",
    "(5 > 4) and (3 == 5)-- False\n",
    "not (5 > 4)         -- False\n",
    "(5 > 4) or (3 == 5) --  True\n",
    "not ((5 > 4) or (3 == 5))-- False\n",
    "(True and True) and (True == False)---- False\n",
    "(not False) or (not True)---- True\n",
    "\n",
    "5. What are the six comparison operators?\n",
    "Ans: less than (<), less than or equal to (<=), greater than (>), greater than or equal to (>=), equal to (==), \n",
    "       and not equal to (!=)\n",
    "6. How do you tell the difference between the equal to and assignment operators?Describe a condition and when you would use one.\n",
    "Equal to is represent as '==' but assignment is represent as '='. When we have to compare values we will use equal to(==) operator but when we have to store value we use assignment(=) operation.\n",
    "A = 10 We are assigning value 10 to A, So used assignment operator.\n",
    "A == 10 we are checking if A has value 10, So used equal to operator\n",
    "\n",
    "7. Identify the three blocks in this code:\n",
    "spam = 0\n",
    "Block 1(\n",
    "if spam == 10:\n",
    "    print('eggs')\n",
    "     )\n",
    "Block 2(\n",
    "if spam > 5:\n",
    "    print('bacon')\n",
    "else:\n",
    "    print('ham')\n",
    "    )\n",
    "Block 3(\n",
    "print('spam')\n",
    "print('spam')\n",
    "    )\n"
   ]
  },
  {
   "cell_type": "raw",
   "id": "b1267efd",
   "metadata": {},
   "source": [
    "8. Write code that prints Hello if 1 is stored in spam, prints Howdy if 2 is stored in spam, and prints Greetings! if anything else is stored in spam."
   ]
  },
  {
   "cell_type": "code",
   "execution_count": 10,
   "id": "31923ce0",
   "metadata": {},
   "outputs": [
    {
     "name": "stdout",
     "output_type": "stream",
     "text": [
      "1\n"
     ]
    }
   ],
   "source": [
    "spam = int(input())"
   ]
  },
  {
   "cell_type": "code",
   "execution_count": 11,
   "id": "08532603",
   "metadata": {},
   "outputs": [
    {
     "name": "stdout",
     "output_type": "stream",
     "text": [
      "Hello\n"
     ]
    }
   ],
   "source": [
    "if spam == 1:\n",
    "    print ('Hello')\n",
    "elif spam == 2:\n",
    "    print ('Howdy')\n",
    "else:\n",
    "    print ('Greetings')"
   ]
  },
  {
   "cell_type": "raw",
   "id": "98c599d2",
   "metadata": {},
   "source": [
    "9.If your programme is stuck in an endless loop, what keys you’ll press?\n",
    "Ans: We can use CRT + C or we can use interrupt kernel button in jupyter notebook\n",
    "\n",
    "10. How can you tell the difference between break and continue?\n",
    "Ans: When we use break statement system we will come out of the loop and no further item of a loop will be processed.\n",
    "    But when we continue remaining part/code of loop will not be executed and next index of loop will be picked up for processing.\n",
    "11. In a for loop, what is the difference between range(10), range(0, 10), and range(0, 10, 1)?\n",
    "    When we use range(10) system we start index from 0 which is default and jump of 1 which is default but when we use range(0, 10) we are defining start and end point for loop but system will jump 1 that is defaul. In  range(0, 10, 1) we are defining start and stop for range and also we are defining the jump/increment for the loop\n",
    "\n",
    "12. Write a short program that prints the numbers 1 to 10 using a for loop. Then write an equivalent program that prints the numbers 1 to 10 using a while loop.\n",
    "Ans: for i in range(1, 11, 1):\n",
    "    print(i)\n",
    "    \n",
    "i = 1\n",
    "while i< 11:\n",
    "    print(i)\n",
    "    i+=1\n",
    "\n",
    "13. If you had a function named bacon() inside a module named spam, how would you call it after importing spam?\n",
    "Ans: We will call function as spam.bacon().\n"
   ]
  }
 ],
 "metadata": {
  "kernelspec": {
   "display_name": "Python 3 (ipykernel)",
   "language": "python",
   "name": "python3"
  },
  "language_info": {
   "codemirror_mode": {
    "name": "ipython",
    "version": 3
   },
   "file_extension": ".py",
   "mimetype": "text/x-python",
   "name": "python",
   "nbconvert_exporter": "python",
   "pygments_lexer": "ipython3",
   "version": "3.9.7"
  }
 },
 "nbformat": 4,
 "nbformat_minor": 5
}
