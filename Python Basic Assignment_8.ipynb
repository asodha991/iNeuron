{
 "cells": [
  {
   "cell_type": "raw",
   "id": "a2340190",
   "metadata": {},
   "source": [
    "1. Is the Python Standard Library included with PyInputPlus?\n",
    "Ans: PyInputPlus is not part of standard library. We need to install separately.\n",
    "\n",
    "2. Why is PyInputPlus commonly imported with import pyinputplus as pypi?\n",
    "Ans: For general convention we use pypi so that we can use while using library. We can any other word instead of pypi also which is convinent for developer.\n",
    "\n",
    "3. How do you distinguish between inputInt() and inputFloat()?\n",
    "Ans: inputFloat() can accept both interget and float value but type of variable will be float but inputInt() can accept only interger in case float values are passed it will give an error. Both keeps prompt for input until right format values are passed.\n",
    "\n",
    "4. Using PyInputPlus, how do you ensure that the user enters a whole number between 0 and 99?\n",
    "Ans: We can use inputInt() method to get interget as input and we can pass min as 0 and max as 99 parameter to the function. So it will give an error when number is not in the range.\n",
    "\n",
    "5. What is transferred to the keyword arguments allowRegexes and blockRegexes?\n",
    "Ans: when a keyword is transferred to allowRegrxes it will allow only those keywords but when keyword is pass to blockRegexes it will block those keywords.\n",
    "\n",
    "6. If a blank input is entered three times, what does inputStr(limit=3) do?\n",
    "Ans: It will re-try for 3 times to get valid input and in case valid input is entrerd after 3 try it give an error.\n",
    "\n",
    "7. If blank input is entered three times, what does inputStr(limit=3, default='hello') do?\n",
    "Ans: it will re-try for 3 times to get valid input and in case valid input is entrerd after 3 try it will use 'hello' as input.\n"
   ]
  }
 ],
 "metadata": {
  "kernelspec": {
   "display_name": "Python 3 (ipykernel)",
   "language": "python",
   "name": "python3"
  },
  "language_info": {
   "codemirror_mode": {
    "name": "ipython",
    "version": 3
   },
   "file_extension": ".py",
   "mimetype": "text/x-python",
   "name": "python",
   "nbconvert_exporter": "python",
   "pygments_lexer": "ipython3",
   "version": "3.9.7"
  }
 },
 "nbformat": 4,
 "nbformat_minor": 5
}
