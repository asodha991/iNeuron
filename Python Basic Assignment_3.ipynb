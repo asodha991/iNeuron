{
 "cells": [
  {
   "cell_type": "raw",
   "id": "fd2290df",
   "metadata": {},
   "source": [
    "1. Why are functions advantageous to have in your programs?\n",
    "Ans: When we have do same activity/calculation we don't need to write same code again and again and also it makes program more modulare and readable.\n",
    "\n",
    "2. When does the code in a function run: when it's specified or when it's called?\n",
    "Ans: The code of function runs when it has been called. It needs to be specified before calling it. After declaration we can call the function.\n",
    "\n",
    "3. What statement creates a function?\n",
    "Ans : def.\n",
    "\n",
    "4. What is the difference between a function and a function call?\n",
    "Ans: Function is when we have declared a it for some action it will not execute any thing. When we call a function it will execute the logic/ code written in that function.\n",
    "\n",
    "5. How many global scopes are there in a Python program? How many local scopes?\n",
    "Ans: There will be only 1 global scope in a program but there will as many local scope as many function are executed.\n",
    "\n",
    "6. What happens to variables in a local scope when the function call returns?\n",
    "Ans: Local scope will be cleared and will not be available funtion returns.\n",
    "\n",
    "7. What is the concept of a return value? Is it possible to have a return value in an expression?\n",
    "Ans: Return will provide the output of function with relavant data type. No, Return can not return value in expression as it will solve that expression and provide output . \n",
    "ex: def test(a,b):\n",
    "    return a*b\n",
    "    this will run multiply of a and b not the expression.\n",
    "    \n",
    "8. If a function does not have a return statement, what is the return value of a call to that function?\n",
    "Ans: Default ruturn for a function is None.\n",
    "\n",
    "9. How do you make a function variable refer to the global variable?\n",
    "Ans: When we use global keyword along with a variable function will refer to global variable\n",
    "\n",
    "10. What is the data type of None?\n",
    "Ans : NoneType\n",
    "\n",
    "11. What does the sentence import areallyourpetsnamederic do?\n",
    "Not able to understand Question.\n",
    "\n",
    "12. If you had a bacon() feature in a spam module, what would you call it after importing spam?\n",
    "And spam.bacon()\n",
    "\n",
    "13. What can you do to save a programme from crashing if it encounters an error?\n",
    "Ans: We can use exception handling or we can capture code in try and catch block.\n",
    "\n",
    "14. What is the purpose of the try clause? What is the purpose of the except clause?\n",
    "Ans: Try and catch clause help to in exceptional handling. When a code/logic written in try block meet an unexpected error which is not handled system will execute catch rather than crashing.\n"
   ]
  },
  {
   "cell_type": "code",
   "execution_count": null,
   "id": "81e1e612",
   "metadata": {},
   "outputs": [],
   "source": []
  }
 ],
 "metadata": {
  "kernelspec": {
   "display_name": "Python 3 (ipykernel)",
   "language": "python",
   "name": "python3"
  },
  "language_info": {
   "codemirror_mode": {
    "name": "ipython",
    "version": 3
   },
   "file_extension": ".py",
   "mimetype": "text/x-python",
   "name": "python",
   "nbconvert_exporter": "python",
   "pygments_lexer": "ipython3",
   "version": "3.9.7"
  }
 },
 "nbformat": 4,
 "nbformat_minor": 5
}
