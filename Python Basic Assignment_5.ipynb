{
 "cells": [
  {
   "cell_type": "raw",
   "id": "768157b1",
   "metadata": {},
   "source": [
    "1. What does an empty dictionary's code look like?\n",
    "Ans: It will be empty dictionary and will be {}.\n",
    "\n",
    "2. What is the value of a dictionary value with the key 'foo' and the value 42?\n",
    "Ans: 42.\n",
    "\n",
    "3. What is the most significant distinction between a dictionary and a list?\n",
    "Ans: Dictionary contains both key and values but list contain only values. While storing in dictonary we can keep keys as per our requirement.\n",
    "\n",
    "4. What happens if you try to access spam['foo'] if spam is {'bar': 100}?\n",
    "Ans: It will give a key error which means that there is no 'foo' as key in spam dictonary.\n",
    "\n",
    "5. If a dictionary is stored in spam, what is the difference between the expressions 'cat' in spam and 'cat' in spam.keys()?\n",
    "Ans 'Cat' in spam will try to check if any key exist in spam dict with 'cat' word also 'cat' in spam.keys() will try ti check if there is 'cat' as one of key in dic and return boolean value. \n",
    "\n",
    "6. If a dictionary is stored in spam, what is the difference between the expressions 'cat' in spam and 'cat' in spam.values()?\n",
    "Ans: Ans 'Cat' in spam will try to check if any key exist in spam dict with 'cat' word also 'cat' in spam.values() will try ti check if there is 'cat' as one of value in dic and return boolean value. \n",
    "\n",
    "7. What is a shortcut for the following code?\n",
    "if 'color' not in spam:\n",
    "spam['color'] = 'black'\n",
    "Ans: spam.setdefault('color', 'black').\n",
    "This will check if 'color' key is available in dict or not. If already key is there then it will retain its existing value and add a new entry if key is not present in dict.\n",
    "\n",
    "8. How do you \"pretty print\" dictionary values using which module and function?\n",
    "Ans: We can use pprint.pprint to pretty print dictionay, We can also json.dumps() to dispaly dictionary in json format."
   ]
  }
 ],
 "metadata": {
  "kernelspec": {
   "display_name": "Python 3 (ipykernel)",
   "language": "python",
   "name": "python3"
  },
  "language_info": {
   "codemirror_mode": {
    "name": "ipython",
    "version": 3
   },
   "file_extension": ".py",
   "mimetype": "text/x-python",
   "name": "python",
   "nbconvert_exporter": "python",
   "pygments_lexer": "ipython3",
   "version": "3.9.7"
  }
 },
 "nbformat": 4,
 "nbformat_minor": 5
}
