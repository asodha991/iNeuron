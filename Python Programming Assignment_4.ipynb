{
 "cells": [
  {
   "cell_type": "raw",
   "id": "476b8b60",
   "metadata": {},
   "source": [
    "Write a Python Program to Find the Factorial of a Number?\n",
    "Write a Python Program to Display the multiplication Table?\n",
    "Write a Python Program to Print the Fibonacci sequence?\n",
    "Write a Python Program to Check Armstrong Number?\n",
    "Write a Python Program to Find Armstrong Number in an Interval?\n",
    "Write a Python Program to Find the Sum of Natural Numbers?"
   ]
  },
  {
   "cell_type": "code",
   "execution_count": 1,
   "id": "04002333",
   "metadata": {},
   "outputs": [],
   "source": [
    "# 1. Write a Python Program to Find the Factorial of a Number?\n",
    "def factorial(n):\n",
    "    \"\"\" This Method is used to find factorial of a number\"\"\"\n",
    "    fac = 1\n",
    "    if n < 0:\n",
    "        return('This can not be factorial of Negative number')\n",
    "    elif n == 0:\n",
    "        return('Factorial of 0 is 1')\n",
    "    else:\n",
    "        for i in range(1, n+1):\n",
    "            fac = fac* i\n",
    "        print('Factorial of ', n ,'is ', fac)"
   ]
  },
  {
   "cell_type": "code",
   "execution_count": 2,
   "id": "38874300",
   "metadata": {},
   "outputs": [
    {
     "name": "stdout",
     "output_type": "stream",
     "text": [
      "Please enter a number 10\n",
      "Factorial of  10 is  3628800\n"
     ]
    }
   ],
   "source": [
    "inp = int(input('Please enter a number '))\n",
    "factorial(inp)"
   ]
  },
  {
   "cell_type": "code",
   "execution_count": 3,
   "id": "c533500c",
   "metadata": {},
   "outputs": [],
   "source": [
    "# 2. Write a Python Program to Display the multiplication Table?\n",
    "def multi_table(n):\n",
    "    \"\"\"Method can be used to find multiplication table of N\"\"\"\n",
    "    l = []\n",
    "    if n <= 0:\n",
    "        return(\"Multiplication table can be shown for Positive number\")\n",
    "    else:\n",
    "        for i in range (1, 11):\n",
    "            a = i*n\n",
    "            l.append(a)\n",
    "        return(l)\n",
    "            "
   ]
  },
  {
   "cell_type": "code",
   "execution_count": 4,
   "id": "9caaa576",
   "metadata": {},
   "outputs": [
    {
     "name": "stdout",
     "output_type": "stream",
     "text": [
      "Please enter a number 17\n"
     ]
    },
    {
     "data": {
      "text/plain": [
       "[17.0, 34.0, 51.0, 68.0, 85.0, 102.0, 119.0, 136.0, 153.0, 170.0]"
      ]
     },
     "execution_count": 4,
     "metadata": {},
     "output_type": "execute_result"
    }
   ],
   "source": [
    "inp = float(input('Please enter a number '))\n",
    "multi_table(inp)"
   ]
  },
  {
   "cell_type": "code",
   "execution_count": 5,
   "id": "09a0a871",
   "metadata": {},
   "outputs": [],
   "source": [
    "# 3. Write a Python Program to Print the Fibonacci sequence?\n",
    "def fib(n):\n",
    "    \"\"\" This Method is used to print the Fibonacci Sequence\"\"\"\n",
    "    a =1\n",
    "    b =1 \n",
    "    for i in range (n):\n",
    "        yield a\n",
    "        a, b = b, a+b"
   ]
  },
  {
   "cell_type": "code",
   "execution_count": 6,
   "id": "cafed6bc",
   "metadata": {},
   "outputs": [
    {
     "name": "stdout",
     "output_type": "stream",
     "text": [
      "Please enter a number 10\n",
      "1\n",
      "1\n",
      "2\n",
      "3\n",
      "5\n",
      "8\n",
      "13\n",
      "21\n",
      "34\n",
      "55\n"
     ]
    }
   ],
   "source": [
    "inp = int(input('Please enter a number '))\n",
    "for i in fib(inp):\n",
    "    print(i)"
   ]
  },
  {
   "cell_type": "code",
   "execution_count": 7,
   "id": "98280ec4",
   "metadata": {},
   "outputs": [],
   "source": [
    "# 4. Write a Python Program to Check Armstrong Number?\n",
    "def arm_num(n):\n",
    "    \"\"\" Method can be used to check if number is Armstrong Number\"\"\"\n",
    "    sum = 0\n",
    "    for d in str(n):\n",
    "        sum += int(d)**3\n",
    "    \n",
    "    if sum == n:\n",
    "        return('This is Armstrong Numer')\n",
    "    else:\n",
    "        return('This is not Armstrong Numer')"
   ]
  },
  {
   "cell_type": "code",
   "execution_count": 8,
   "id": "18df0b2b",
   "metadata": {},
   "outputs": [
    {
     "name": "stdout",
     "output_type": "stream",
     "text": [
      "Please enter a number 401\n"
     ]
    },
    {
     "data": {
      "text/plain": [
       "'This is not Armstrong Numer'"
      ]
     },
     "execution_count": 8,
     "metadata": {},
     "output_type": "execute_result"
    }
   ],
   "source": [
    "inp = int(input('Please enter a number '))\n",
    "arm_num(inp)"
   ]
  },
  {
   "cell_type": "code",
   "execution_count": 9,
   "id": "62cfd0ee",
   "metadata": {},
   "outputs": [],
   "source": [
    "# 5. Write a Python Program to Find Armstrong Number in an Interval?\n",
    "def arm_range(s,n):\n",
    "    \"\"\" Method can be used find list of Armstrong Number in interval\"\"\"\n",
    "    l = []\n",
    "    for i in range(s,n+1):\n",
    "        sum = 0\n",
    "        for d in str(i):\n",
    "            sum += int(d)**3\n",
    "        if sum == i:\n",
    "            l.append(i)\n",
    "    return(l)"
   ]
  },
  {
   "cell_type": "code",
   "execution_count": 10,
   "id": "90cf6144",
   "metadata": {},
   "outputs": [
    {
     "data": {
      "text/plain": [
       "[1, 153, 370, 371, 407]"
      ]
     },
     "execution_count": 10,
     "metadata": {},
     "output_type": "execute_result"
    }
   ],
   "source": [
    "arm_range(1,500)"
   ]
  },
  {
   "cell_type": "code",
   "execution_count": 11,
   "id": "70c57859",
   "metadata": {},
   "outputs": [],
   "source": [
    "# 6. Write a Python Program to Find the Sum of Natural Numbers?\n",
    "def sum_n(n):\n",
    "    if n > 0:\n",
    "        sum = (n*(n+1))/2\n",
    "    return sum"
   ]
  },
  {
   "cell_type": "code",
   "execution_count": 12,
   "id": "f3c87883",
   "metadata": {},
   "outputs": [
    {
     "name": "stdout",
     "output_type": "stream",
     "text": [
      "Please enter a Natural number 10\n"
     ]
    },
    {
     "data": {
      "text/plain": [
       "55.0"
      ]
     },
     "execution_count": 12,
     "metadata": {},
     "output_type": "execute_result"
    }
   ],
   "source": [
    "inp = int(input('Please enter a Natural number '))\n",
    "sum_n(inp)"
   ]
  },
  {
   "cell_type": "code",
   "execution_count": null,
   "id": "187be949",
   "metadata": {},
   "outputs": [],
   "source": []
  }
 ],
 "metadata": {
  "kernelspec": {
   "display_name": "Python 3 (ipykernel)",
   "language": "python",
   "name": "python3"
  },
  "language_info": {
   "codemirror_mode": {
    "name": "ipython",
    "version": 3
   },
   "file_extension": ".py",
   "mimetype": "text/x-python",
   "name": "python",
   "nbconvert_exporter": "python",
   "pygments_lexer": "ipython3",
   "version": "3.9.7"
  }
 },
 "nbformat": 4,
 "nbformat_minor": 5
}
