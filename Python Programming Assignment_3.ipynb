{
 "cells": [
  {
   "cell_type": "raw",
   "id": "f308cd6f",
   "metadata": {},
   "source": [
    "Write a Python Program to Check if a Number is Positive, Negative or Zero?\n",
    "Write a Python Program to Check if a Number is Odd or Even?\n",
    "Write a Python Program to Check Leap Year?\n",
    "Write a Python Program to Check Prime Number?\n",
    "Write a Python Program to Print all Prime Numbers in an Interval of 1-10000?"
   ]
  },
  {
   "cell_type": "code",
   "execution_count": 9,
   "id": "ab88365f",
   "metadata": {},
   "outputs": [],
   "source": [
    "# 1. Write a Python Program to Check if a Number is Positive, Negative or Zero?\n",
    "def check_num(n):\n",
    "    \"\"\"This Method is used to check if number is Positive, Negative or Zero \"\"\"\n",
    "    if type(n) == float or type(n) == int:\n",
    "        if n >= 0:\n",
    "            if n == 0:\n",
    "                return ('Zero')\n",
    "            else:\n",
    "                return ('Number is Positive')\n",
    "        else:\n",
    "            return( 'Number is Negative')\n",
    "    else:\n",
    "        return('Please enter a valid Number')"
   ]
  },
  {
   "cell_type": "code",
   "execution_count": 8,
   "id": "69af455a",
   "metadata": {},
   "outputs": [
    {
     "name": "stdout",
     "output_type": "stream",
     "text": [
      "Please enter a number2\n"
     ]
    },
    {
     "data": {
      "text/plain": [
       "'Number is Positive'"
      ]
     },
     "execution_count": 8,
     "metadata": {},
     "output_type": "execute_result"
    }
   ],
   "source": [
    "inp = float(input('Please enter a number'))\n",
    "check_num(inp)"
   ]
  },
  {
   "cell_type": "code",
   "execution_count": 14,
   "id": "3595c7d8",
   "metadata": {},
   "outputs": [],
   "source": [
    "# 2. Write a Python Program to Check if a Number is Odd or Even?\n",
    "def c_odd_even(n):\n",
    "    \"\"\" This Method is used check if number is Odd or Even\"\"\"\n",
    "    if (n % 2) == 0:\n",
    "        return ('This Number is Even')\n",
    "    else:\n",
    "        return (' This Number is Odd')"
   ]
  },
  {
   "cell_type": "code",
   "execution_count": 22,
   "id": "2779539e",
   "metadata": {},
   "outputs": [
    {
     "name": "stdout",
     "output_type": "stream",
     "text": [
      "Please enter a number2.5\n"
     ]
    },
    {
     "data": {
      "text/plain": [
       "' This Number is Odd'"
      ]
     },
     "execution_count": 22,
     "metadata": {},
     "output_type": "execute_result"
    }
   ],
   "source": [
    "inp = float(input('Please enter a number'))\n",
    "c_odd_even(inp)"
   ]
  },
  {
   "cell_type": "code",
   "execution_count": 18,
   "id": "5dcf30c2",
   "metadata": {},
   "outputs": [],
   "source": [
    "# 3. Write a Python Program to Check Leap Year\n",
    "\n",
    "def check_leap(y):\n",
    "    \"\"\" This Method can be used to check Leap Year\"\"\"\n",
    "    if (y% 4) == 0:\n",
    "        return('This a Leap Year')\n",
    "    else:\n",
    "        return ('This is Normal Year')"
   ]
  },
  {
   "cell_type": "code",
   "execution_count": 21,
   "id": "02b237d6",
   "metadata": {},
   "outputs": [
    {
     "name": "stdout",
     "output_type": "stream",
     "text": [
      "Please enter a number2001\n"
     ]
    },
    {
     "data": {
      "text/plain": [
       "'This is Normal Year'"
      ]
     },
     "execution_count": 21,
     "metadata": {},
     "output_type": "execute_result"
    }
   ],
   "source": [
    "inp = int(input('Please enter a number'))\n",
    "check_leap(inp)"
   ]
  },
  {
   "cell_type": "code",
   "execution_count": 28,
   "id": "6e18b3bf",
   "metadata": {},
   "outputs": [],
   "source": [
    "# 4. Write a Python Program to Check Prime Number?\n",
    "\n",
    "def check_prime(n):\n",
    "    \"\"\" This Method can be used to check Prime Number\"\"\"\n",
    "    if n > 1:\n",
    "        for i in range(2, n):\n",
    "            if (n%i)== 0:\n",
    "                return('This is not a prime Number')\n",
    "        return ('This is prime Number')"
   ]
  },
  {
   "cell_type": "code",
   "execution_count": 30,
   "id": "2abd5806",
   "metadata": {},
   "outputs": [
    {
     "name": "stdout",
     "output_type": "stream",
     "text": [
      "Please enter a number17\n"
     ]
    },
    {
     "data": {
      "text/plain": [
       "'This is prime Number'"
      ]
     },
     "execution_count": 30,
     "metadata": {},
     "output_type": "execute_result"
    }
   ],
   "source": [
    "inp = int(input('Please enter a number'))\n",
    "check_prime(inp)"
   ]
  },
  {
   "cell_type": "code",
   "execution_count": 59,
   "id": "29fd53ac",
   "metadata": {},
   "outputs": [],
   "source": [
    "# 5 . Write a Python Program to Print all Prime Numbers in an Interval of 1-10000?\n",
    "def w_prime(n):\n",
    "    \"\"\" This method can be used to print Print Prime number upto N interval\"\"\"\n",
    "    p = []\n",
    "    np = []\n",
    "    for c in range(1, n+1): \n",
    "        if c > 1:\n",
    "            for i in range(2, c):\n",
    "                if (c%i)== 0:\n",
    "                    np.append(c)\n",
    "                    break\n",
    "            else:\n",
    "                p.append(c)\n",
    "    return p"
   ]
  },
  {
   "cell_type": "code",
   "execution_count": 60,
   "id": "9e55c99f",
   "metadata": {},
   "outputs": [
    {
     "name": "stdout",
     "output_type": "stream",
     "text": [
      "Please enter a number 101\n"
     ]
    },
    {
     "data": {
      "text/plain": [
       "[2,\n",
       " 3,\n",
       " 5,\n",
       " 7,\n",
       " 11,\n",
       " 13,\n",
       " 17,\n",
       " 19,\n",
       " 23,\n",
       " 29,\n",
       " 31,\n",
       " 37,\n",
       " 41,\n",
       " 43,\n",
       " 47,\n",
       " 53,\n",
       " 59,\n",
       " 61,\n",
       " 67,\n",
       " 71,\n",
       " 73,\n",
       " 79,\n",
       " 83,\n",
       " 89,\n",
       " 97,\n",
       " 101]"
      ]
     },
     "execution_count": 60,
     "metadata": {},
     "output_type": "execute_result"
    }
   ],
   "source": [
    "inp = int(input('Please enter a number '))\n",
    "w_prime(inp)"
   ]
  },
  {
   "cell_type": "code",
   "execution_count": null,
   "id": "d321868b",
   "metadata": {},
   "outputs": [],
   "source": []
  }
 ],
 "metadata": {
  "kernelspec": {
   "display_name": "Python 3 (ipykernel)",
   "language": "python",
   "name": "python3"
  },
  "language_info": {
   "codemirror_mode": {
    "name": "ipython",
    "version": 3
   },
   "file_extension": ".py",
   "mimetype": "text/x-python",
   "name": "python",
   "nbconvert_exporter": "python",
   "pygments_lexer": "ipython3",
   "version": "3.9.7"
  }
 },
 "nbformat": 4,
 "nbformat_minor": 5
}
