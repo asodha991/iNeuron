{
 "cells": [
  {
   "cell_type": "raw",
   "id": "3df25afa",
   "metadata": {},
   "source": [
    "1. Write a Python Program to Find LCM?\n",
    "2. Write a Python Program to Find HCF?\n",
    "3. Write a Python Program to Convert Decimal to Binary, Octal and Hexadecimal?\n",
    "4. Write a Python Program To Find ASCII value of a character?\n",
    "5. Write a Python Program to Make a Simple Calculator with 4 basic mathematical operations?"
   ]
  },
  {
   "cell_type": "code",
   "execution_count": 1,
   "id": "1f9ef362",
   "metadata": {},
   "outputs": [],
   "source": [
    "# 1. Write a Python Program to Find LCM?\n",
    "def find_lcm(a, b):\n",
    "    \"\"\" This Method can be used to find the LCM of 2 number\"\"\"\n",
    "    # choose the greater number\n",
    "    if a > b:\n",
    "       greater = a\n",
    "    else:\n",
    "       greater = b\n",
    "    while(True):\n",
    "       if((greater % a == 0) and (greater % b == 0)):\n",
    "           lcm = greater\n",
    "           break\n",
    "       greater += 1\n",
    "\n",
    "    return lcm\n",
    "    "
   ]
  },
  {
   "cell_type": "code",
   "execution_count": 3,
   "id": "2191eaa9",
   "metadata": {},
   "outputs": [
    {
     "data": {
      "text/plain": [
       "216"
      ]
     },
     "execution_count": 3,
     "metadata": {},
     "output_type": "execute_result"
    }
   ],
   "source": [
    "find_lcm(54,24)"
   ]
  },
  {
   "cell_type": "code",
   "execution_count": 6,
   "id": "17dd4e82",
   "metadata": {},
   "outputs": [],
   "source": [
    "# 2. Write a Python Program to Find HCF?\n",
    "def find_hcf(a,b):\n",
    "    \"\"\"This method can be used to find HCF of 2 numbers\"\"\"\n",
    "    # choose the smaller number\n",
    "    if a > b:\n",
    "        smaller = b\n",
    "    else:\n",
    "        smaller = a\n",
    "    for i in range(1, smaller+1):\n",
    "        if((a % i == 0) and (b % i == 0)):\n",
    "            hcf = i \n",
    "    return hcf"
   ]
  },
  {
   "cell_type": "code",
   "execution_count": 7,
   "id": "041c3c69",
   "metadata": {},
   "outputs": [
    {
     "data": {
      "text/plain": [
       "6"
      ]
     },
     "execution_count": 7,
     "metadata": {},
     "output_type": "execute_result"
    }
   ],
   "source": [
    "find_hcf(54,24)"
   ]
  },
  {
   "cell_type": "code",
   "execution_count": 15,
   "id": "bc4e0131",
   "metadata": {},
   "outputs": [],
   "source": [
    "# Conversion table of remainders to\n",
    "# hexadecimal equivalent\n",
    "conversion_table = {0: '0', 1: '1', 2: '2', 3: '3', 4: '4',\n",
    "                    5: '5', 6: '6', 7: '7',\n",
    "                    8: '8', 9: '9', 10: 'A', 11: 'B', 12: 'C',\n",
    "                    13: 'D', 14: 'E', 15: 'F'}"
   ]
  },
  {
   "cell_type": "code",
   "execution_count": 37,
   "id": "ee59bf3a",
   "metadata": {},
   "outputs": [],
   "source": [
    "# 3. Write a Python Program to Convert Decimal to Binary, Octal and Hexadecimal?\n",
    "class conv_dec ():\n",
    "    \"\"\" This Class is used to convert decimal number to binary Octal and Hexa\"\"\"\n",
    "    def __init__(self, n):\n",
    "        self.n = n\n",
    "        \n",
    "    def DecimalToBinary(self):\n",
    "        \"\"\"This Method conver Decimal to binary\"\"\"\n",
    "        print(\"Binary of \", self.n, 'is')\n",
    "        if self.n >= 1:\n",
    "            DecimalToBinary(self.n // 2)\n",
    "        print(self.n % 2)\n",
    "    \n",
    "    \n",
    "    def DecimalToOctal(self):\n",
    "        print(\"Octal of \", self.n, 'is')\n",
    "        if self.n // 8 != 0:\n",
    "            DecimalToOctal(self.n // 8)\n",
    "        print(self.n % 8)\n",
    "        \n",
    "    def decimalToHexadecimal(self):\n",
    "        print(\"HexaDecimal of  \", self.n, 'is')\n",
    "        hexadecimal = ''\n",
    "        while(self.n > 0):\n",
    "            remainder = self.n % 16\n",
    "            hexadecimal = conversion_table[remainder] + hexadecimal\n",
    "            self.n = self.n // 16\n",
    "  \n",
    "        return hexadecimal"
   ]
  },
  {
   "cell_type": "code",
   "execution_count": 48,
   "id": "313e563a",
   "metadata": {},
   "outputs": [],
   "source": [
    "d = conv_dec(int(75.2))"
   ]
  },
  {
   "cell_type": "code",
   "execution_count": 49,
   "id": "8a9ce75e",
   "metadata": {},
   "outputs": [
    {
     "name": "stdout",
     "output_type": "stream",
     "text": [
      "Binary of  75 is\n",
      "0\n",
      "1\n",
      "0\n",
      "0\n",
      "1\n",
      "0\n",
      "1\n",
      "1\n"
     ]
    }
   ],
   "source": [
    "d.DecimalToBinary()"
   ]
  },
  {
   "cell_type": "code",
   "execution_count": 50,
   "id": "7b843a75",
   "metadata": {},
   "outputs": [
    {
     "name": "stdout",
     "output_type": "stream",
     "text": [
      "Octal of  75 is\n",
      "1\n",
      "1\n",
      "3\n"
     ]
    }
   ],
   "source": [
    "d.DecimalToOctal()"
   ]
  },
  {
   "cell_type": "code",
   "execution_count": 51,
   "id": "f24d29b1",
   "metadata": {},
   "outputs": [
    {
     "name": "stdout",
     "output_type": "stream",
     "text": [
      "HexaDecimal of   75 is\n"
     ]
    },
    {
     "data": {
      "text/plain": [
       "'4B'"
      ]
     },
     "execution_count": 51,
     "metadata": {},
     "output_type": "execute_result"
    }
   ],
   "source": [
    "d.decimalToHexadecimal()"
   ]
  },
  {
   "cell_type": "code",
   "execution_count": 52,
   "id": "6acd2ccf",
   "metadata": {},
   "outputs": [],
   "source": [
    "def DecimalToBinary(self):\n",
    "    if self >= 1:\n",
    "        DecimalToBinary(self // 2)\n",
    "    print(self % 2)"
   ]
  },
  {
   "cell_type": "code",
   "execution_count": 43,
   "id": "cceaece4",
   "metadata": {},
   "outputs": [
    {
     "name": "stdout",
     "output_type": "stream",
     "text": [
      "0\n",
      "1\n",
      "0\n",
      "0\n",
      "0\n",
      "1\n"
     ]
    }
   ],
   "source": [
    "DecimalToBinary(17)"
   ]
  },
  {
   "cell_type": "code",
   "execution_count": 44,
   "id": "ef81e855",
   "metadata": {},
   "outputs": [],
   "source": [
    "def DecimalToOctal(self):\n",
    "    if self // 8 != 0:\n",
    "        DecimalToOctal(self // 8)\n",
    "    print(self % 8)"
   ]
  },
  {
   "cell_type": "code",
   "execution_count": 45,
   "id": "dc8f6e9b",
   "metadata": {},
   "outputs": [
    {
     "name": "stdout",
     "output_type": "stream",
     "text": [
      "4\n",
      "1\n"
     ]
    }
   ],
   "source": [
    "DecimalToOctal(33)"
   ]
  },
  {
   "cell_type": "code",
   "execution_count": 53,
   "id": "9e20bb3a",
   "metadata": {},
   "outputs": [],
   "source": [
    "# 4. Write a Python Program To Find ASCII value of a character?\n",
    "def asc(c):\n",
    "    # print the ASCII value of assigned character in c\n",
    "    print(\"The ASCII value of '\" + c + \"' is\", ord(c))"
   ]
  },
  {
   "cell_type": "code",
   "execution_count": 56,
   "id": "a62141ea",
   "metadata": {},
   "outputs": [
    {
     "name": "stdout",
     "output_type": "stream",
     "text": [
      "The ASCII value of 'c' is 99\n"
     ]
    }
   ],
   "source": [
    "asc('c')"
   ]
  },
  {
   "cell_type": "code",
   "execution_count": 23,
   "id": "ed84daf2",
   "metadata": {},
   "outputs": [],
   "source": [
    "# 5. Write a Python Program to Make a Simple Calculator with 4 basic mathematical operations?\n",
    "def calc():\n",
    "    try:\n",
    "        a = float(input('Please enter first interger '))\n",
    "        b = float(input('Please enter second interger '))\n",
    "        opr = input('Please enter the operation you want to perform ')\n",
    "        if opr == '+':\n",
    "            return a+b\n",
    "        if opr == '-':\n",
    "            return a-b\n",
    "        if opr == 'X' or opr == '*':\n",
    "            return a*b\n",
    "        if opr == '/':\n",
    "            return float(a/b)\n",
    "    except Exception as e:\n",
    "        print(e)"
   ]
  },
  {
   "cell_type": "code",
   "execution_count": 24,
   "id": "96bf1ff0",
   "metadata": {},
   "outputs": [
    {
     "name": "stdout",
     "output_type": "stream",
     "text": [
      "Please enter first interger 5\n",
      "Please enter second interger 2\n",
      "Please enter the operation you want to perform /\n"
     ]
    },
    {
     "data": {
      "text/plain": [
       "2.5"
      ]
     },
     "execution_count": 24,
     "metadata": {},
     "output_type": "execute_result"
    }
   ],
   "source": [
    "calc()"
   ]
  }
 ],
 "metadata": {
  "kernelspec": {
   "display_name": "Python 3 (ipykernel)",
   "language": "python",
   "name": "python3"
  },
  "language_info": {
   "codemirror_mode": {
    "name": "ipython",
    "version": 3
   },
   "file_extension": ".py",
   "mimetype": "text/x-python",
   "name": "python",
   "nbconvert_exporter": "python",
   "pygments_lexer": "ipython3",
   "version": "3.9.7"
  }
 },
 "nbformat": 4,
 "nbformat_minor": 5
}
