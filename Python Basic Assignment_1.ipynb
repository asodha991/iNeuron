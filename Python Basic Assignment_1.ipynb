{
 "cells": [
  {
   "cell_type": "raw",
   "id": "ff302a7c",
   "metadata": {},
   "source": [
    "1. In the below elements which of them are values or an expression? eg:- values can be integer or string and expressions will be mathematical operators.\n",
    "* ---Expression\n",
    "'hello'-- Value\n",
    "-87.8 --- Value\n",
    "- --- Expression\n",
    "/ -- Expression\n",
    "6 -- Value\n",
    "\n",
    "2. What is the difference between string and variable?\n",
    "Ans:String is just charcters but variable store the values at run time.\n",
    "\n",
    "3. Describe three different data types.\n",
    "Ans: Int-- When normal numeric value are there.\n",
    "     Float- When Numeric with decimal values.\n",
    "     Str- String is charcters.\n",
    "     Complex- We represent complex number\n",
    "     \n",
    "4. What is an expression made up of? What do all expressions do?\n",
    "Ans: Exprssion are made up of mathematical operators and numeric values. Expression will perform mathematical or sceincetific Calculation.\n",
    "5. This assignment statements, like spam = 10. What is the difference between an expression and a statement?\n",
    "Ans: Experssion will perform calculation but statement will be assigning values to variable or declaration.\n",
    "6. After running the following code, what does the variable bacon contain?\n",
    "bacon = 22\n",
    "bacon + 1\n",
    "Ans: bacon will contain 22 as we have not updated values for bacon but we have just for performed addition in runtime.\n",
    "\n",
    "7. What should the values of the following two terms be?\n",
    "'spam' + 'spamspam' Ans : 'spamspamspam'\n",
    "'spam' * 3          Ans : 'spamspamspam'\n",
    "\n",
    "\n",
    "8. Why is eggs a valid variable name while 100 is invalid?\n",
    "Ans: As eggs is not defined in python language but 100 is defined as numeric value in python. We can not use already defined words or dictonary of python. Or python interpret 100 as numeric.\n",
    "9. What three functions can be used to get the integer, floating-point number, or string version of a value?\n",
    "Ans: int can be used for integer, float for floating point number and str for string\n",
    "\n",
    "10. Why does this expression cause an error? How can you fix it?\n",
    "'I have eaten ' + 99 + ' burritos.'\n",
    "\n",
    "Ans: We are trying to concat string with interger. To fix this we can use str(99) instead of 99 or just by adding quote to 99('99')"
   ]
  }
 ],
 "metadata": {
  "kernelspec": {
   "display_name": "Python 3 (ipykernel)",
   "language": "python",
   "name": "python3"
  },
  "language_info": {
   "codemirror_mode": {
    "name": "ipython",
    "version": 3
   },
   "file_extension": ".py",
   "mimetype": "text/x-python",
   "name": "python",
   "nbconvert_exporter": "python",
   "pygments_lexer": "ipython3",
   "version": "3.9.7"
  }
 },
 "nbformat": 4,
 "nbformat_minor": 5
}
