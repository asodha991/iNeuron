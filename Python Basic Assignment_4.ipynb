{
 "cells": [
  {
   "cell_type": "raw",
   "id": "7fd8bce1",
   "metadata": {},
   "source": [
    "1. What exactly is []?\n",
    "Ans: This is used for create a empty list in python.\n",
    "\n",
    "2. In a list of values stored in a variable called spam, how would you assign the value 'hello' as the third value? (Assume [2, 4, 6, 8, 10] are in spam.)\n",
    "Ans: s[2] = 'hello'\n",
    "\n",
    "Let's pretend the spam includes the list ['a', 'b', 'c', 'd'] for the next three queries.\n",
    "Considering Spam = [2, 4, 6, 8, 10,['a', 'b', 'c', 'd'] ]\n",
    "     index of spam- 0  1  2  3   4  5\n",
    "3. What is the value of spam[int(int('3' * 2) / 11)]?\n",
    "Ans : 8\n",
    "Explain: ('3' * 2) ---> will give 33 and after converting to int and dividing by 11 wll give 3, So 8 is at 3rd index\n",
    "\n",
    "4. What is the value of spam[-1]?\n",
    "Ans: ['a', 'b', 'c', 'd']\n",
    "\n",
    "5. What is the value of spam[:2]?\n",
    "Ans: [2, 4]\n",
    "\n",
    "Let's pretend bacon has the list [3.14, 'cat,' 11, 'cat,' True] for the next three questions.\n",
    "6. What is the value of bacon.index('cat')?\n",
    "Ans: 1\n",
    "\n",
    "7. How does bacon.append(99) change the look of the list value in bacon?\n",
    "Ans: It will 99 in the last of list .List will be [3.14, 'cat', 11, 'cat', True, 99]\n",
    "\n",
    "8. How does bacon.remove('cat') change the look of the list in bacon?\n",
    "Ans It will remove first cat from list and list will be  [3.14, 11, 'cat', True, 99]\n",
    "\n",
    "9. What are the list concatenation and list replication operators?\n",
    "Ans: list concatenation is + and list replication operators is *.\n",
    "\n",
    "10. What is difference between the list methods append() and insert()?\n",
    "Ans: Method append() will add element in the last of list but insert will add element at particulare index\n",
    "\n",
    "11. What are the two methods for removing items from a list?\n",
    "Ans: remove- To remove particuare element and pop-- to Remove the last element of list.\n",
    "\n",
    "12. Describe how list values and string values are identical.\n",
    "Ans: Both list and string value can be accessed using Index.\n",
    "\n",
    "13. What's the difference between tuples and lists?\n",
    "Ans: List data type is mutable object but tuples data type are  immutable element.\n",
    "\n",
    "14. How do you type a tuple value that only contains the integer 42?\n",
    "Ans: t = (42,)\n",
    "\n",
    "15. How do you get a list value's tuple form? How do you get a tuple value's list form?\n",
    "Ans:l = [(1,3,6,'Hi'), (' Hello','AJay')]   t = ([43,'Hello', 'Ajay'], [1,3,5,6])\n",
    "\n",
    "16. Variables that \"contain\" list values are not necessarily lists themselves. Instead, what do they contain?\n",
    "Ans: Variable contains a string (str)\n",
    "\n",
    "17. How do you distinguish between copy.copy() and copy.deepcopy()?\n",
    "Ans: copy.copy will copy the refernce of original object so if any change done in copied object changes will be reflect in main object also .. but in case of deep copy new refrence will be created and modification in copy obejct won't impact main object.\n"
   ]
  },
  {
   "cell_type": "code",
   "execution_count": 1,
   "id": "d4214ce2",
   "metadata": {},
   "outputs": [],
   "source": [
    "s = [2, 4, 6, 8, 10]"
   ]
  },
  {
   "cell_type": "code",
   "execution_count": 2,
   "id": "f29ff495",
   "metadata": {},
   "outputs": [],
   "source": [
    "s[2] = 'hello'"
   ]
  },
  {
   "cell_type": "code",
   "execution_count": 3,
   "id": "5aec6820",
   "metadata": {},
   "outputs": [
    {
     "data": {
      "text/plain": [
       "[2, 4, 'hello', 8, 10]"
      ]
     },
     "execution_count": 3,
     "metadata": {},
     "output_type": "execute_result"
    }
   ],
   "source": [
    "s"
   ]
  },
  {
   "cell_type": "code",
   "execution_count": 7,
   "id": "e50ec4dc",
   "metadata": {},
   "outputs": [],
   "source": [
    "Spam = [2, 4, 6, 8, 10,['a', 'b', 'c', 'd'] ]"
   ]
  },
  {
   "cell_type": "code",
   "execution_count": 11,
   "id": "ee62800b",
   "metadata": {},
   "outputs": [
    {
     "data": {
      "text/plain": [
       "[2, 4]"
      ]
     },
     "execution_count": 11,
     "metadata": {},
     "output_type": "execute_result"
    }
   ],
   "source": [
    "Spam[:2]"
   ]
  },
  {
   "cell_type": "code",
   "execution_count": 14,
   "id": "5bf5ccc3",
   "metadata": {},
   "outputs": [],
   "source": [
    "b = [3.14, 'cat', 11, 'cat', True]"
   ]
  },
  {
   "cell_type": "code",
   "execution_count": 15,
   "id": "e3e12fbe",
   "metadata": {},
   "outputs": [
    {
     "data": {
      "text/plain": [
       "1"
      ]
     },
     "execution_count": 15,
     "metadata": {},
     "output_type": "execute_result"
    }
   ],
   "source": [
    "b.index('cat')"
   ]
  },
  {
   "cell_type": "code",
   "execution_count": 17,
   "id": "b01585a1",
   "metadata": {},
   "outputs": [],
   "source": [
    "b.append(99)"
   ]
  },
  {
   "cell_type": "code",
   "execution_count": 19,
   "id": "bb5113fc",
   "metadata": {},
   "outputs": [],
   "source": [
    "b.remove('cat')"
   ]
  },
  {
   "cell_type": "code",
   "execution_count": 25,
   "id": "39fc27ce",
   "metadata": {},
   "outputs": [
    {
     "data": {
      "text/plain": [
       "[3.14, 11, 'cat', True, 99]"
      ]
     },
     "execution_count": 25,
     "metadata": {},
     "output_type": "execute_result"
    }
   ],
   "source": [
    "b"
   ]
  },
  {
   "cell_type": "code",
   "execution_count": 26,
   "id": "ebc92927",
   "metadata": {},
   "outputs": [
    {
     "data": {
      "text/plain": [
       "[2, 4, 'hello', 8, 10]"
      ]
     },
     "execution_count": 26,
     "metadata": {},
     "output_type": "execute_result"
    }
   ],
   "source": [
    "s"
   ]
  },
  {
   "cell_type": "code",
   "execution_count": 22,
   "id": "e7616aa7",
   "metadata": {},
   "outputs": [
    {
     "data": {
      "text/plain": [
       "[3.14, 11, 'cat', True, 99, 2, 4, 'hello', 8, 10]"
      ]
     },
     "execution_count": 22,
     "metadata": {},
     "output_type": "execute_result"
    }
   ],
   "source": [
    "b+s"
   ]
  },
  {
   "cell_type": "code",
   "execution_count": 24,
   "id": "e13d3770",
   "metadata": {},
   "outputs": [
    {
     "data": {
      "text/plain": [
       "[3.14, 11, 'cat', True, 99, 3.14, 11, 'cat', True, 99]"
      ]
     },
     "execution_count": 24,
     "metadata": {},
     "output_type": "execute_result"
    }
   ],
   "source": [
    "b*2"
   ]
  },
  {
   "cell_type": "code",
   "execution_count": 28,
   "id": "fa0ba774",
   "metadata": {},
   "outputs": [],
   "source": [
    "s.append('Ajay')"
   ]
  },
  {
   "cell_type": "code",
   "execution_count": 29,
   "id": "0286fccd",
   "metadata": {},
   "outputs": [
    {
     "data": {
      "text/plain": [
       "[2, 4, 'hello', 8, 10, 'Ajay']"
      ]
     },
     "execution_count": 29,
     "metadata": {},
     "output_type": "execute_result"
    }
   ],
   "source": [
    "s"
   ]
  },
  {
   "cell_type": "code",
   "execution_count": 31,
   "id": "3088ba38",
   "metadata": {},
   "outputs": [],
   "source": [
    "s.insert(2, 'Singh')"
   ]
  },
  {
   "cell_type": "code",
   "execution_count": 32,
   "id": "6e6d3ac2",
   "metadata": {},
   "outputs": [
    {
     "data": {
      "text/plain": [
       "[2, 4, 'Singh', 'hello', 8, 10, 'Ajay']"
      ]
     },
     "execution_count": 32,
     "metadata": {},
     "output_type": "execute_result"
    }
   ],
   "source": [
    "s"
   ]
  },
  {
   "cell_type": "code",
   "execution_count": 33,
   "id": "35dde519",
   "metadata": {},
   "outputs": [],
   "source": [
    "s.remove('Singh')"
   ]
  },
  {
   "cell_type": "code",
   "execution_count": 34,
   "id": "b8c02ca8",
   "metadata": {},
   "outputs": [
    {
     "data": {
      "text/plain": [
       "[2, 4, 'hello', 8, 10, 'Ajay']"
      ]
     },
     "execution_count": 34,
     "metadata": {},
     "output_type": "execute_result"
    }
   ],
   "source": [
    "s"
   ]
  },
  {
   "cell_type": "code",
   "execution_count": 35,
   "id": "65cdaaf2",
   "metadata": {},
   "outputs": [
    {
     "data": {
      "text/plain": [
       "'Ajay'"
      ]
     },
     "execution_count": 35,
     "metadata": {},
     "output_type": "execute_result"
    }
   ],
   "source": [
    "s.pop()"
   ]
  },
  {
   "cell_type": "code",
   "execution_count": 36,
   "id": "44240763",
   "metadata": {},
   "outputs": [
    {
     "data": {
      "text/plain": [
       "[2, 4, 'hello', 8, 10]"
      ]
     },
     "execution_count": 36,
     "metadata": {},
     "output_type": "execute_result"
    }
   ],
   "source": [
    "s"
   ]
  },
  {
   "cell_type": "code",
   "execution_count": 44,
   "id": "73a11460",
   "metadata": {},
   "outputs": [],
   "source": [
    "t = ([43,'Hello', 'Ajay'], [1,3,5,6])"
   ]
  },
  {
   "cell_type": "code",
   "execution_count": 45,
   "id": "d1a4379e",
   "metadata": {},
   "outputs": [
    {
     "data": {
      "text/plain": [
       "tuple"
      ]
     },
     "execution_count": 45,
     "metadata": {},
     "output_type": "execute_result"
    }
   ],
   "source": [
    "type(t)"
   ]
  },
  {
   "cell_type": "code",
   "execution_count": 47,
   "id": "d44c5dd7",
   "metadata": {},
   "outputs": [
    {
     "data": {
      "text/plain": [
       "[1, 3, 5, 6]"
      ]
     },
     "execution_count": 47,
     "metadata": {},
     "output_type": "execute_result"
    }
   ],
   "source": [
    "t[1] "
   ]
  },
  {
   "cell_type": "code",
   "execution_count": 48,
   "id": "d18648ef",
   "metadata": {},
   "outputs": [],
   "source": [
    "l = [(1,3,6,'Hi'), (' Hello','AJay')]"
   ]
  }
 ],
 "metadata": {
  "kernelspec": {
   "display_name": "Python 3 (ipykernel)",
   "language": "python",
   "name": "python3"
  },
  "language_info": {
   "codemirror_mode": {
    "name": "ipython",
    "version": 3
   },
   "file_extension": ".py",
   "mimetype": "text/x-python",
   "name": "python",
   "nbconvert_exporter": "python",
   "pygments_lexer": "ipython3",
   "version": "3.9.7"
  }
 },
 "nbformat": 4,
 "nbformat_minor": 5
}
