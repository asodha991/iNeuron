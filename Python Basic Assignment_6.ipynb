{
 "cells": [
  {
   "cell_type": "raw",
   "id": "685b2637",
   "metadata": {},
   "source": [
    "1. What are escape characters, and how do you use them?\n",
    "Ans: Escape character which are kind of reserved charcter which can not be used directly in any string. To use them we need to add \\ before using them Ex: \" is an escape char so we can use \\\" to use \".\n",
    "\n",
    "2. What do the escape characters n and t stand for?\n",
    "Ans: N stand for new line and T is to insert a tab in string.\n",
    "\n",
    "3. What is the way to include backslash characters in a string?\n",
    "Ans: \\\\ \n",
    "4. The string \"Howl's Moving Castle\" is a correct value. Why isn't the single quote character in the word Howl's not escaped a problem?\n",
    "Ans: We have used \"\" to store string value due to whcih it is not escaped problem, If use '' to make string it will be escape probelm.\n",
    "\n",
    "5. How do you write a string of newlines if you don't want to use the n character?\n",
    "Ans: We can use multiple print statement to write string to new line or while using print we can specify the end = \\n so that it will print new line.\n",
    "6. What are the values of the given expressions?\n",
    "'Hello, world!'[1] it will be give the value available at first index which is \"e\"\n",
    "'Hello, world!'[0:5]--> Hello ( Stating from 0 index and till 4th index excluding value of 5th index)\n",
    "'Hello, world!'[:5] --> Hello (Starting from start and till 4th index excluding value of 5th index)\n",
    "'Hello, world!'[3:] --> lo, world! ( starting from 3rd index till end of string.)\n",
    " 01234567891911-- Index of string.\n",
    " \n",
    "7. What are the values of the following expressions?\n",
    "'Hello'.upper()--> HELLO ( It will convert string into upper case)\n",
    "'Hello'.upper().isupper() --> True (As first func is which will convert to upper case and then checking if all the char are upper case so it will give output as True)\n",
    "'Hello'.upper().lower() --> hello (First function will convert to upper case but second function will conver all the char to small case.\n",
    "\n",
    "8. What are the values of the following expressions?\n",
    "'Remember, remember, the fifth of July.'.split()\n",
    "Ans: ['Remember,', 'remember,', 'the', 'fifth', 'of', 'July.'] It will split the string where space is available as for split have whitespace as default.\n",
    "'-'.join('There can only one.'.split())\n",
    "Ans: 'There-can-only-one.'(First it will split the string at whitespaces and then join each char with '-'.\n",
    "\n",
    "9. What are the methods for right-justifying, left-justifying, and centering a string?\n",
    "Ans: rjust(),ljust(), center() are the method for respective justifying. For each method we need to provide the width in which we need to justify\n",
    "\n",
    "10. What is the best way to remove whitespace characters from the start or end?\n",
    "Ans:rstrip() for end and lstrip() for start to remove whitespace characters."
   ]
  },
  {
   "cell_type": "code",
   "execution_count": null,
   "id": "52f67e0f",
   "metadata": {},
   "outputs": [],
   "source": []
  }
 ],
 "metadata": {
  "kernelspec": {
   "display_name": "Python 3 (ipykernel)",
   "language": "python",
   "name": "python3"
  },
  "language_info": {
   "codemirror_mode": {
    "name": "ipython",
    "version": 3
   },
   "file_extension": ".py",
   "mimetype": "text/x-python",
   "name": "python",
   "nbconvert_exporter": "python",
   "pygments_lexer": "ipython3",
   "version": "3.9.7"
  }
 },
 "nbformat": 4,
 "nbformat_minor": 5
}
